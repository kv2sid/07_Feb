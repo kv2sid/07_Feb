{
 "cells": [
  {
   "cell_type": "markdown",
   "id": "f212db38-06f9-449a-be3a-d6acbc18ae72",
   "metadata": {},
   "source": [
    "Q1. You are writing code for a company. The requirement of the company is that you create a python\n",
    "function that will check whether the password entered by the user is correct or not. The function should\n",
    "take the password as input and return the string “Valid Password” if the entered password follows the\n",
    "below-given password guidelines else it should return “Invalid Password”.\n",
    "\n",
    "Note: 1. The Password should contain at least two uppercase letters and at least two lowercase letters.\n",
    "2. The Password should contain at least a number and three special characters.\n",
    "3. The length of the password should be 10 characters long."
   ]
  },
  {
   "cell_type": "code",
   "execution_count": 12,
   "id": "9acf9cd3-d368-4d57-8006-a29d57a860f4",
   "metadata": {},
   "outputs": [
    {
     "name": "stdin",
     "output_type": "stream",
     "text": [
      " SI!@#ht12345\n"
     ]
    },
    {
     "data": {
      "text/plain": [
       "'valid password'"
      ]
     },
     "execution_count": 12,
     "metadata": {},
     "output_type": "execute_result"
    }
   ],
   "source": [
    "'''1. The Password should contain at least two uppercase letters and at least two lowercase letters.\n",
    "2. The Password should contain at least a number and three special characters.\n",
    "3. The length of the password should be 10 characters long.'''\n",
    "\n",
    "def password():\n",
    "    s = str(input())\n",
    "    # check length of the password\n",
    "    len(s) >= 10\n",
    "    for char in s:\n",
    "        if len(s)<10 :\n",
    "            return 'invalid password'\n",
    "     # check upper and lower case alphabets\n",
    "        upper_case = 0\n",
    "        lower_case = 0\n",
    "        for char in s:\n",
    "            if char.isupper():\n",
    "                upper_case += 1\n",
    "            elif char.islower():\n",
    "                lower_case += 1\n",
    "        if upper_case<2 or lower_case<2:\n",
    "            return 'invalid password'\n",
    "         # check upper and numbers and special characters\n",
    "        num = 0\n",
    "        special_char = 0\n",
    "        for char in s:\n",
    "            if char.isdigit():\n",
    "                num += 1\n",
    "            elif char in \"!@#$%^&*()_+-={}[]|\\:;\\\"'<>,.?/\":\n",
    "                special_char += 1\n",
    "        if num ==0 or special_char < 3:\n",
    "            return 'invalid password'\n",
    "        else:\n",
    "            return 'valid password'\n",
    "                                 \n",
    "                                \n",
    "    \n",
    "        \n",
    "   \n",
    "        \n",
    "password()"
   ]
  },
  {
   "cell_type": "markdown",
   "id": "159d4d54-4fb7-4378-b624-e0d3d1580a30",
   "metadata": {},
   "source": [
    "Q2. Solve the below-given questions using at least one of the following:\n",
    "1. Lambda function\n",
    "2. Filter function\n",
    "3. Map function\n",
    "4. List Comprehension"
   ]
  },
  {
   "cell_type": "markdown",
   "id": "77135b7d-d217-42bd-8c4d-4dbf76f0d0f9",
   "metadata": {},
   "source": [
    "* Check if the string starts with a particular letter\n",
    "* Check if the string is numericY\n",
    "* Sort a list of tuples having fruit names and their quantity. [(\"mango\",99),(\"orange\",80), (\"grapes\", 1000)-\n",
    "* Find the squares of numbers from 1 to 10Y\n",
    "* Find the cube root of numbers from 1 to 10Y\n",
    "* Check if a given number is evenY\n",
    "* Filter odd numbers from the given list.\n",
    "[1,2,3,4,5,6,7,8,9,10-\n",
    "* Sort a list of integers into positive and negative integers lists.\n",
    "[1,2,3,4,5,6,-1,-2,-3,-4,-5,0]"
   ]
  },
  {
   "cell_type": "code",
   "execution_count": 14,
   "id": "84505dab-6acb-4f9e-9877-2c3c5d043365",
   "metadata": {},
   "outputs": [
    {
     "name": "stdin",
     "output_type": "stream",
     "text": [
      "Enter your word Sid\n",
      "Check your First_character S\n"
     ]
    },
    {
     "data": {
      "text/plain": [
       "True"
      ]
     },
     "execution_count": 14,
     "metadata": {},
     "output_type": "execute_result"
    }
   ],
   "source": [
    "# * Check if the string starts with a particular letter\n",
    "Word = input('Enter your word')\n",
    "First_character = input('Check your First_character')\n",
    "first_letter = lambda Word , First_character: True if Word[0] == First_character[0] else False\n",
    "first_letter(Word, First_character)"
   ]
  },
  {
   "cell_type": "code",
   "execution_count": 49,
   "id": "de7cbec1-a44e-413f-b4c8-a42e603abb10",
   "metadata": {},
   "outputs": [
    {
     "name": "stdin",
     "output_type": "stream",
     "text": [
      "Input_val in str : 89\n"
     ]
    },
    {
     "data": {
      "text/plain": [
       "True"
      ]
     },
     "execution_count": 49,
     "metadata": {},
     "output_type": "execute_result"
    }
   ],
   "source": [
    "# Check if the string is numbers\n",
    "input_val = input(str('Input_val in str :'))\n",
    "check_val = lambda input_val: True if input_val.isdecimal() or input_val.isnumeric() or input_val.isdigit() else False\n",
    "check_val(input_val)"
   ]
  },
  {
   "cell_type": "code",
   "execution_count": 69,
   "id": "6b6dbee3-b3f7-4262-b9e3-0efc1880d143",
   "metadata": {},
   "outputs": [],
   "source": [
    "test = lambda x : True if (x > 10 and x < 20) else False"
   ]
  },
  {
   "cell_type": "code",
   "execution_count": 9,
   "id": "2cc81801-b9fa-4726-b717-8a842e4f4e34",
   "metadata": {},
   "outputs": [
    {
     "name": "stdout",
     "output_type": "stream",
     "text": [
      "[('orange', 80), ('mango', 99), ('grapes', 1000)]\n"
     ]
    }
   ],
   "source": [
    "# Sort a list of tuples having fruit names and their quantity. [(\"mango\",99),(\"orange\",80), (\"grapes\", 1000) ]\n",
    "lst = [(\"mango\",99),(\"orange\",80), (\"grapes\", 1000)]\n",
    "num_fruits = sorted(lst, key = lambda x: x[1])\n",
    "print(num_fruits)"
   ]
  },
  {
   "cell_type": "code",
   "execution_count": 15,
   "id": "33ef605f-709e-4726-aac1-0beb30aa552c",
   "metadata": {},
   "outputs": [
    {
     "name": "stdout",
     "output_type": "stream",
     "text": [
      "[1, 4, 9, 16, 25, 36, 49, 64, 81, 100]\n"
     ]
    }
   ],
   "source": [
    "# Find the squares of numbers from 1 to 10\n",
    "lst1= [1,2,3,4,5,6,7,8,9,10]\n",
    "sq_num= map(lambda x: x**2,lst1)\n",
    "print(list(sq_num))"
   ]
  },
  {
   "cell_type": "code",
   "execution_count": 16,
   "id": "1b7a978f-3c29-4d0e-9eba-e85e66697c48",
   "metadata": {},
   "outputs": [
    {
     "name": "stdout",
     "output_type": "stream",
     "text": [
      "[1, 8, 27, 64, 125, 216, 343, 512, 729, 1000]\n"
     ]
    }
   ],
   "source": [
    "#Find the cube root of numbers from 1 to 10\n",
    "lst2 = [1,2,3,4,5,6,7,8,9,10]\n",
    "cube_num = map(lambda x: x**3,lst2)\n",
    "print(list(cube_num))"
   ]
  },
  {
   "cell_type": "code",
   "execution_count": 43,
   "id": "176d1691-d88e-4d8a-b6f0-784c484f6bb2",
   "metadata": {},
   "outputs": [
    {
     "name": "stdin",
     "output_type": "stream",
     "text": [
      "Please enter your number 45\n"
     ]
    },
    {
     "name": "stdout",
     "output_type": "stream",
     "text": [
      "Given input is a Even numbers :  False\n"
     ]
    }
   ],
   "source": [
    "# Check if a given number is even\n",
    "\n",
    "num1 =  int(input(('Please enter your number')))\n",
    "even_nos = lambda num1: (num1 % 2 == 0)\n",
    "\n",
    "print(\"Given input is a Even numbers : \", even_nos(num1))\n"
   ]
  },
  {
   "cell_type": "code",
   "execution_count": 48,
   "id": "bada8a62-e4f9-485f-b0c9-0018018fdf05",
   "metadata": {},
   "outputs": [
    {
     "name": "stdout",
     "output_type": "stream",
     "text": [
      "Followint are the odd numbers in the given lst3 [1, 3, 5, 7, 9]\n"
     ]
    }
   ],
   "source": [
    "# Filter odd numbers from the given list. [1,2,3,4,5,6,7,8,9,10]\n",
    "lst3 = [1,2,3,4,5,6,7,8,9,10]\n",
    "Odd_nos = list(filter(lambda x: (x % 2 != 0), lst3))\n",
    "print('Followint are the odd numbers in the given lst3', Odd_nos)"
   ]
  },
  {
   "cell_type": "code",
   "execution_count": 49,
   "id": "44884503-2a27-463a-b8a9-ca3c6d7cea98",
   "metadata": {},
   "outputs": [
    {
     "name": "stdout",
     "output_type": "stream",
     "text": [
      "Following are the numbers are positive  [1, 2, 3, 4, 5, 6]\n",
      "Following are the numbers are negative  [-1, -2, -3, -4, -5]\n"
     ]
    }
   ],
   "source": [
    "# Sort a list of integers into positive and negative integers lists. [1,2,3,4,5,6,-1,-2,-3,-4,-5,0]\n",
    "lst4 = [1,2,3,4,5,6,-1,-2,-3,-4,-5,0]\n",
    "postive_numbers = list(filter(lambda x: x >0,lst4))\n",
    "negative_numbers = list(filter(lambda y: y<0, lst4))\n",
    "print('Following are the numbers are positive ' , postive_numbers)\n",
    "print('Following are the numbers are negative ' , negative_numbers)\n"
   ]
  },
  {
   "cell_type": "code",
   "execution_count": null,
   "id": "b0131e13-a4ce-44b2-9516-48bb257c9383",
   "metadata": {},
   "outputs": [],
   "source": []
  }
 ],
 "metadata": {
  "kernelspec": {
   "display_name": "Python 3 (ipykernel)",
   "language": "python",
   "name": "python3"
  },
  "language_info": {
   "codemirror_mode": {
    "name": "ipython",
    "version": 3
   },
   "file_extension": ".py",
   "mimetype": "text/x-python",
   "name": "python",
   "nbconvert_exporter": "python",
   "pygments_lexer": "ipython3",
   "version": "3.10.8"
  }
 },
 "nbformat": 4,
 "nbformat_minor": 5
}
